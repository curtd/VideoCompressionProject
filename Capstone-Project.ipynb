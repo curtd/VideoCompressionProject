{
 "cells": [
  {
   "cell_type": "code",
   "execution_count": null,
   "metadata": {
    "collapsed": true
   },
   "outputs": [],
   "source": [
    "import numpy as np\n",
    "import pandas as pd\n",
    "import matplotlib.pyplot as plt\n",
    "from sklearn import preprocessing\n",
    "%matplotlib inline"
   ]
  },
  {
   "cell_type": "markdown",
   "metadata": {},
   "source": [
    "# Capstone Project: Midvale Video Compression\n"
   ]
  },
  {
   "cell_type": "code",
   "execution_count": null,
   "metadata": {
    "collapsed": true
   },
   "outputs": [],
   "source": [
    "# First consider data from a single camera\n",
    "A3=pd.read_csv('data/A3.csv')\n",
    "print(A3.head())"
   ]
  },
  {
   "cell_type": "markdown",
   "metadata": {},
   "source": [
    "## Feature Engineering\n",
    "- Resolution: take product of dimensions to get total number of pixels\n",
    "- Status:\n",
    "- Message:\n",
    "- Test:\n",
    "- Detail: high -> 1, low -> 0\n",
    "- Motion: high -> 1, low->0"
   ]
  },
  {
   "cell_type": "code",
   "execution_count": null,
   "metadata": {
    "collapsed": true
   },
   "outputs": [],
   "source": [
    "# resolutions\n",
    "def res2int(res):\n",
    "    for ii in range(len(res)):\n",
    "        ind=res[ii].index('x')\n",
    "        res[ii]=(float(res[ii][:ind])*(float(res[ii][ind+1:])))\n",
    "    return res\n",
    "p_res=res2int(A3['PrimaryResolution'].values)\n",
    "s_res=res2int(A3['SecondaryResolution'].values)"
   ]
  },
  {
   "cell_type": "code",
   "execution_count": null,
   "metadata": {
    "collapsed": true
   },
   "outputs": [],
   "source": [
    "# Detail and Motion\n",
    "def highlow2int(arr):\n",
    "    for ii in range(len(arr)):\n",
    "        arr[ii]=int(arr[ii]=='high')\n",
    "    return arr\n",
    "motion=highlow2int(A3['Motion'].values)\n",
    "detail=highlow2int(A3['Detail'].values)\n",
    "\n",
    "# Test\n",
    "def test2int(arr):\n",
    "    for ii in range(len(arr)):\n",
    "        arr[ii]=int(arr[ii]=='Compression')\n",
    "    return arr\n",
    "test=test2int(A3['Test'].values)"
   ]
  },
  {
   "cell_type": "code",
   "execution_count": null,
   "metadata": {
    "collapsed": true
   },
   "outputs": [],
   "source": [
    "# Plots (features vs primary bitrate)\n",
    "fig = plt.figure(figsize=(17,8))\n",
    "\n",
    "ax1 = fig.add_subplot(2,1,1)\n",
    "ax1.scatter(p_res, np.log(A3['PrimaryBitsPerSecond']))\n",
    "ax1.set_xlabel('Primary Resolution')\n",
    "ax1.set_ylabel('log(Primary Bitrate)')\n",
    "\n",
    "ax2 = fig.add_subplot(2,1,2)\n",
    "ax2.scatter(s_res, np.log(A3['PrimaryBitsPerSecond']))\n",
    "ax2.set_xlabel('Secondary Resolution')\n",
    "ax2.set_ylabel('log(Primary Bitrate)')\n"
   ]
  },
  {
   "cell_type": "code",
   "execution_count": null,
   "metadata": {
    "collapsed": true
   },
   "outputs": [],
   "source": [
    "datadir = '/home/curtd/var/data/'\n",
    "datafile = 'A3.csv'\n",
    "localdatadir = '~/var/data/'\n",
    "localdatafile = 'TotalBytes.csv'\n",
    "\n",
    "import pandas as pd\n",
    "import numpy as np\n",
    "import matplotlib.pyplot as plt\n",
    "from sklearn.linear_model import LinearRegression\n",
    "data = pd.read_csv(datadir + datafile)\n",
    "#print(data.head())\n",
    "\n",
    "# Output column\n",
    "PrimaryBits = data['PrimaryBitsPerSecond'].as_matrix()\n",
    "SecondaryBits = data['SecondaryBitsPerSecond'].as_matrix()\n",
    "TertiaryBits = data['TertiaryBitsPerSecond'].as_matrix()\n",
    "\n",
    "# Features \n",
    "StrFeatKeys = ['PrimaryResolution','SecondaryResolution','TertiaryResolution','Flicker','Nonlinear','Compression','Test','Detail','Motion']\n",
    "StrFeats = {}\n",
    "for s in StrFeatKeys:\n",
    "    StrFeats[s] = data[s].values\n",
    "\n",
    "NumFeatKeys = ['Keyframe','ImageRate','Quality','KbpsLimit','WaitSeconds','CollectSeconds','TotalBytes']    \n",
    "NumFeats = {}\n",
    "for s in NumFeatKeys:\n",
    "    NumFeats[s] = data[s].as_matrix()\n",
    "    \n",
    "m = PrimaryBits.shape[0]\n",
    "print('\\n Number of samples:', m)"
   ]
  },
  {
   "cell_type": "code",
   "execution_count": null,
   "metadata": {
    "collapsed": true
   },
   "outputs": [],
   "source": [
    "def res_to_number(r):\n",
    "    s = np.zeros(r.shape[0])\n",
    "    for i in range(len(s)):\n",
    "        ri = r[i]\n",
    "        xloc = str.find(ri,'x')\n",
    "        s[i] = int(r[i][:xloc])*int(r[i][xloc+1:])\n",
    "    return s    \n",
    "\n",
    "def categ_unordered_to_one_hot(r,vals):\n",
    "    p = len(vals)\n",
    "    s = np.zeros((len(r),p))\n",
    "    for i in range(len(r)):\n",
    "        ri = str(r[i])\n",
    "        idx = vals.index(ri)\n",
    "        s[i,idx] = 1\n",
    "    return s\n",
    "\n",
    "def categ_ordered_to_num(r,vals):\n",
    "    p = len(vals)\n",
    "    s = np.zeros(len(r))\n",
    "    for i in range(len(r)):\n",
    "        ri = str(r[i])\n",
    "        idx = vals.index(ri)\n",
    "        s[i] = idx\n",
    "    return s\n",
    "res_func = lambda x: np.log10(x)\n",
    "res_func_inv = lambda x: 10**x\n",
    "\n",
    "PrimRes_num = res_func(res_to_number(StrFeats['PrimaryResolution']))\n",
    "SecRes_num = res_func(res_to_number(StrFeats['SecondaryResolution']))\n",
    "#TerRes_num = res_func(res_to_number(StrFeats['TertiaryResolution']))\n",
    "\n",
    "Flicker_num = categ_unordered_to_one_hot(StrFeats['Flicker'],['50','60'])\n",
    "Nonlinear_num = categ_unordered_to_one_hot(StrFeats['Nonlinear'],['0','1'])\n",
    "Compr_num = categ_unordered_to_one_hot(StrFeats['Compression'],['Off','Low','Medium','High'])\n",
    "Kbpslim_num = NumFeats['KbpsLimit']\n",
    "Waitsec_num = NumFeats['WaitSeconds']\n",
    "Collectsec_num = NumFeats['CollectSeconds']\n",
    "Totalbytes_num = NumFeats['TotalBytes']\n",
    "\n",
    "Test_num = categ_unordered_to_one_hot(StrFeats['Test'],['Base','Idle','Compression','HDR'])\n",
    "Detail_num = categ_unordered_to_one_hot(StrFeats['Detail'],['low','medium','high'])\n",
    "Motion_num = categ_unordered_to_one_hot(StrFeats['Motion'],['none','low','high'])\n",
    "\n",
    "AllCols =[PrimRes_num,SecRes_num,Flicker_num,Nonlinear_num,Compr_num,Kbpslim_num,Waitsec_num,\n",
    "          Collectsec_num,Test_num,Detail_num,Motion_num]\n",
    "for i in range(len(AllCols)):\n",
    "    if len(AllCols[i].shape)==1:\n",
    "        AllCols[i] = np.expand_dims(AllCols[i],axis=1)"
   ]
  },
  {
   "cell_type": "code",
   "execution_count": null,
   "metadata": {
    "collapsed": true
   },
   "outputs": [],
   "source": [
    "X = np.concatenate(AllCols,axis=1)\n",
    "Y = np.log10(PrimaryBits)\n",
    "\n",
    "## Clean the data\n",
    "Iremove = np.where(np.apply_along_axis(lambda x: np.any(x < 0) ,1,X))\n",
    "X,Y = np.delete(X,Iremove,axis=0),np.delete(Y,Iremove,axis=0)\n",
    "\n",
    "m,n = X.shape[0],X.shape[1]\n",
    "\n",
    "## Shuffle the data\n",
    "np.random.seed(857493)\n",
    "shuffle = np.random.permutation(np.arange(m))\n",
    "X, Y = X[shuffle], Y[shuffle]\n",
    "p = 0.6\n",
    "pdev = 0.8\n",
    "Xtrain,Ytrain = X[:int(m*p),:],Y[:int(m*p)]\n",
    "Xdev,Ydev = X[int(m*p):int(m*pdev),:],Y[int(m*p):int(m*pdev)]\n",
    "Xtest,Ytest = X[int(m*pdev):,:],Y[int(m*pdev):]\n",
    "\n",
    "Xtrain_final,Ytrain_final = X[:int(m*pdev),:],Y[:int(m*pdev)]\n",
    "\n",
    "print('# total samples', m, 'with',n, 'features')\n",
    "print('# train samples',Xtrain.shape[0])\n",
    "print('# dev samples',Xdev.shape[0])\n",
    "print('# test samples',Xtest.shape[0])"
   ]
  },
  {
   "cell_type": "code",
   "execution_count": null,
   "metadata": {
    "collapsed": true
   },
   "outputs": [],
   "source": [
    "fig = plt.figure(figsize=(17,5))\n",
    "ax1=fig.add_subplot(1,3,1)\n",
    "ax1.plot(X[:,0],Y,'o')\n",
    "ax1.set_xlabel('Feature 0')\n",
    "ax1.set_ylabel('Output')\n",
    "\n",
    "plt.show()"
   ]
  },
  {
   "cell_type": "code",
   "execution_count": 1,
   "metadata": {},
   "outputs": [
    {
     "ename": "NameError",
     "evalue": "name 'Xtrain' is not defined",
     "output_type": "error",
     "traceback": [
      "\u001b[0;31m---------------------------------------------------------------------------\u001b[0m",
      "\u001b[0;31mNameError\u001b[0m                                 Traceback (most recent call last)",
      "\u001b[0;32m<ipython-input-1-df29a7744ff8>\u001b[0m in \u001b[0;36m<module>\u001b[0;34m()\u001b[0m\n\u001b[1;32m      2\u001b[0m \u001b[0mpdeviation\u001b[0m \u001b[0;34m=\u001b[0m \u001b[0;36m0.1\u001b[0m\u001b[0;34m\u001b[0m\u001b[0m\n\u001b[1;32m      3\u001b[0m \u001b[0mscaler\u001b[0m \u001b[0;34m=\u001b[0m \u001b[0mpreprocessing\u001b[0m\u001b[0;34m.\u001b[0m\u001b[0mStandardScaler\u001b[0m\u001b[0;34m(\u001b[0m\u001b[0;34m)\u001b[0m\u001b[0;34m\u001b[0m\u001b[0m\n\u001b[0;32m----> 4\u001b[0;31m \u001b[0mXtrain_scaled\u001b[0m \u001b[0;34m=\u001b[0m \u001b[0mscaler\u001b[0m\u001b[0;34m.\u001b[0m\u001b[0mfit_transform\u001b[0m\u001b[0;34m(\u001b[0m\u001b[0mXtrain\u001b[0m\u001b[0;34m)\u001b[0m\u001b[0;34m\u001b[0m\u001b[0m\n\u001b[0m\u001b[1;32m      5\u001b[0m \u001b[0mXdev_scaled\u001b[0m \u001b[0;34m=\u001b[0m \u001b[0mscaler\u001b[0m\u001b[0;34m.\u001b[0m\u001b[0mtransform\u001b[0m\u001b[0;34m(\u001b[0m\u001b[0mXdev\u001b[0m\u001b[0;34m)\u001b[0m\u001b[0;34m\u001b[0m\u001b[0m\n\u001b[1;32m      6\u001b[0m \u001b[0;34m\u001b[0m\u001b[0m\n",
      "\u001b[0;31mNameError\u001b[0m: name 'Xtrain' is not defined"
     ]
    }
   ],
   "source": [
    "from sklearn import preprocessing\n",
    "pdeviation = 0.3\n",
    "\n",
    "scaler = preprocessing.StandardScaler()\n",
    "Xtrain_scaled = scaler.fit_transform(Xtrain)\n",
    "Xdev_scaled = scaler.transform(Xdev)\n",
    "\n",
    "scaler_final = preprocessing.StandardScaler()\n",
    "Xtrain_final_scaled = scaler_final.fit_transform(Xtrain_final)\n",
    "Xtest_scaled = scaler_final.transform(Xtest)\n",
    "\n",
    "lr = LinearRegression()\n",
    "lr.fit(Xtrain_final_scaled,Ytrain_final)\n",
    "\n",
    "def RMSE(output, prediction):\n",
    "    return np.sqrt(np.mean((res_func_inv(output) - res_func_inv(prediction))**2))\n",
    "def NRMSE(output, prediction):\n",
    "    return RMSE(output,prediction)/(np.max(res_func_inv(output))-np.min(res_func_inv(output)))\n",
    "def PERCENT_HITS(output,prediction):\n",
    "    return np.mean( np.abs(res_func_inv(output)-res_func_inv(prediction))<pdeviation*abs(res_func_inv(output)) )\n",
    "\n",
    "\n",
    "predict_train = lr.predict(Xtrain_final_scaled)\n",
    "lr_train_rmse = NRMSE(Ytrain_final,predict_train)\n",
    "print('Train err equals',lr_train_rmse)\n",
    "\n",
    "prediction = lr.predict(Xtest_scaled)\n",
    "lr_test_rmse = NRMSE(Ytest, prediction)\n",
    "print('Test error equals: ', lr_test_rmse)\n",
    "\n",
    "print('Percent of samples that deviate from the true predictions by less than ', pdeviation, ' (relatively)')\n",
    "print(PERCENT_HITS(Ytest,prediction))\n",
    "\n",
    "print(lr.coef_)\n",
    "\n"
   ]
  },
  {
   "cell_type": "code",
   "execution_count": null,
   "metadata": {
    "collapsed": true
   },
   "outputs": [],
   "source": [
    "from sklearn.linear_model import Ridge\n",
    "from sklearn.linear_model import Lasso\n",
    "\n",
    "alphas = [1e-4,1e-3,1e-2,1e-1,1,1e1,1e2]\n",
    "min_dev_rmse = 1e10\n",
    "min_alpha = 0\n",
    "for i in range(len(alphas)):\n",
    "    rm = Ridge(alpha=alphas[i])\n",
    "    rm.fit(Xtrain_scaled,Ytrain)\n",
    "\n",
    "    prediction = rm.predict(Xtrain_scaled)\n",
    "    rm_train_rmse = NRMSE(Ytrain,prediction)\n",
    "\n",
    "    predict_ridge = rm.predict(Xdev_scaled)\n",
    "    rm_dev_rmse = NRMSE(Ydev,predict_ridge)\n",
    "    if rm_dev_rmse < min_dev_rmse:\n",
    "        min_dev_rmse = rm_dev_rmse\n",
    "        min_alpha = alphas[i]    \n",
    "\n",
    "print('Best alpha ',min_alpha)\n",
    "rm = Ridge(alpha=min_alpha)\n",
    "rm.fit(Xtrain_final_scaled,Ytrain_final)\n",
    "\n",
    "prediction = rm.predict(Xtrain_final_scaled)\n",
    "rm_train_rmse = NRMSE(Ytrain_final, prediction)\n",
    "print('Test error equals: ', rm_train_rmse)\n",
    "\n",
    "prediction = rm.predict(Xtest_scaled)\n",
    "rm_test_rmse = NRMSE(Ytest, prediction)\n",
    "print('Test error equals: ', rm_test_rmse)\n",
    "\n",
    "\n",
    "print('Percent of samples that deviate from the true predictions by less than ', pdeviation, ' (relatively)')\n",
    "print(PERCENT_HITS(Ytest,prediction))\n",
    "\n",
    "\n",
    "print(rm.coef_)"
   ]
  },
  {
   "cell_type": "code",
   "execution_count": null,
   "metadata": {
    "collapsed": true
   },
   "outputs": [],
   "source": [
    "alphas = [1e-4,1e-3,1e-2,1e-1,1,1e1,1e2]\n",
    "min_dev_rmse = 1e10\n",
    "min_alpha = 0\n",
    "for i in range(len(alphas)):\n",
    "    las = Lasso(alpha=alphas[i])\n",
    "    las.fit(Xtrain_scaled,Ytrain)\n",
    "\n",
    "    prediction = las.predict(Xtrain_scaled)\n",
    "    rm_train_rmse = NRMSE(Ytrain,prediction)\n",
    "\n",
    "    predict_ridge = las.predict(Xdev_scaled)\n",
    "    rm_dev_rmse = NRMSE(Ydev,predict_ridge)\n",
    "    if rm_dev_rmse < min_dev_rmse:\n",
    "        min_dev_rmse = rm_dev_rmse\n",
    "        min_alpha = alphas[i]    \n",
    "\n",
    "print('Best alpha ',min_alpha)\n",
    "las = Lasso(alpha=min_alpha)\n",
    "las.fit(Xtrain_final_scaled,Ytrain_final)\n",
    "\n",
    "prediction = las.predict(Xtrain_final_scaled)\n",
    "rm_train_rmse = NRMSE(Ytrain_final, prediction)\n",
    "print('Train error equals: ', rm_train_rmse)\n",
    "\n",
    "prediction = las.predict(Xtest_scaled)\n",
    "rm_test_rmse = NRMSE(Ytest, prediction)\n",
    "print('Test error equals: ', rm_test_rmse)\n",
    "\n",
    "print('Percent of samples that deviate from the true predictions by less than ', pdeviation, ' (relatively)')\n",
    "print(PERCENT_HITS(Ytest,prediction))\n",
    "\n",
    "print(las.coef_)"
   ]
  }
 ],
 "metadata": {
  "kernelspec": {
   "display_name": "Python 3",
   "language": "python",
   "name": "python3"
  },
  "language_info": {
   "codemirror_mode": {
    "name": "ipython",
    "version": 3
   },
   "file_extension": ".py",
   "mimetype": "text/x-python",
   "name": "python",
   "nbconvert_exporter": "python",
   "pygments_lexer": "ipython3",
   "version": "3.6.1"
  }
 },
 "nbformat": 4,
 "nbformat_minor": 2
}
