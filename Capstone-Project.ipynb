{
 "cells": [
  {
   "cell_type": "code",
   "execution_count": null,
   "metadata": {
    "collapsed": true
   },
   "outputs": [],
   "source": [
    "import numpy as np\n",
    "import pandas as pd\n",
    "import matplotlib.pyplot as plt\n",
    "from sklearn import preprocessing\n",
    "%matplotlib inline"
   ]
  },
  {
   "cell_type": "markdown",
   "metadata": {},
   "source": [
    "# Capstone Project: Midvale Video Compression\n"
   ]
  },
  {
   "cell_type": "code",
   "execution_count": null,
   "metadata": {
    "collapsed": true
   },
   "outputs": [],
   "source": [
    "# First consider data from a single camera\n",
    "A3=pd.read_csv('data/A3.csv')\n",
    "print(A3.head())"
   ]
  },
  {
   "cell_type": "markdown",
   "metadata": {},
   "source": [
    "## Feature Engineering\n",
    "- Resolution: take product of dimensions to get total number of pixels\n",
    "- Status:\n",
    "- Message:\n",
    "- Test:\n",
    "- Detail: high -> 1, low -> 0\n",
    "- Motion: high -> 1, low->0"
   ]
  },
  {
   "cell_type": "code",
   "execution_count": null,
   "metadata": {
    "collapsed": true
   },
   "outputs": [],
   "source": [
    "# resolutions\n",
    "def res2int(res):\n",
    "    for ii in range(len(res)):\n",
    "        ind=res[ii].index('x')\n",
    "        res[ii]=(float(res[ii][:ind])*(float(res[ii][ind+1:])))\n",
    "    return res\n",
    "p_res=res2int(A3['PrimaryResolution'].values)\n",
    "s_res=res2int(A3['SecondaryResolution'].values)"
   ]
  },
  {
   "cell_type": "code",
   "execution_count": null,
   "metadata": {
    "collapsed": true
   },
   "outputs": [],
   "source": [
    "# Detail and Motion\n",
    "def highlow2int(arr):\n",
    "    for ii in range(len(arr)):\n",
    "        arr[ii]=int(arr[ii]=='high')\n",
    "    return arr\n",
    "motion=highlow2int(A3['Motion'].values)\n",
    "detail=highlow2int(A3['Detail'].values)\n",
    "\n",
    "# Test\n",
    "def test2int(arr):\n",
    "    for ii in range(len(arr)):\n",
    "        arr[ii]=int(arr[ii]=='Compression')\n",
    "    return arr\n",
    "test=test2int(A3['Test'].values)"
   ]
  },
  {
   "cell_type": "code",
   "execution_count": null,
   "metadata": {
    "collapsed": true
   },
   "outputs": [],
   "source": [
    "# Plots (features vs primary bitrate)\n",
    "fig = plt.figure(figsize=(17,8))\n",
    "\n",
    "ax1 = fig.add_subplot(2,1,1)\n",
    "ax1.scatter(p_res, np.log(A3['PrimaryBitsPerSecond']))\n",
    "ax1.set_xlabel('Primary Resolution')\n",
    "ax1.set_ylabel('log(Primary Bitrate)')\n",
    "\n",
    "ax2 = fig.add_subplot(2,1,2)\n",
    "ax2.scatter(s_res, np.log(A3['PrimaryBitsPerSecond']))\n",
    "ax2.set_xlabel('Secondary Resolution')\n",
    "ax2.set_ylabel('log(Primary Bitrate)')\n"
   ]
  },
  {
   "cell_type": "code",
   "execution_count": null,
   "metadata": {
    "collapsed": true
   },
   "outputs": [],
   "source": [
    "## Read in \n",
    "# Output column\n",
    "data = A3\n",
    "PrimaryBits = data['PrimaryBitsPerSecond'].as_matrix()\n",
    "\n",
    "# Features \n",
    "StrFeatKeys = ['PrimaryResolution','Compression','Test','Detail']\n",
    "StrFeats = {}\n",
    "for s in StrFeatKeys:\n",
    "    StrFeats[s] = data[s].values\n",
    "\n",
    "NumFeatKeys = ['']    \n",
    "NumFeats = {}"
   ]
  },
  {
   "cell_type": "code",
   "execution_count": null,
   "metadata": {
    "collapsed": true
   },
   "outputs": [],
   "source": [
    "## Convert resolution, categorical (ordered + unordered) features to their numerical representation\n",
    "def res_to_number(r):\n",
    "    s = np.zeros(r.shape[0])\n",
    "    for i in range(len(s)):\n",
    "        ri = r[i]\n",
    "        xloc = str.find(ri,'x')\n",
    "        s[i] = int(r[i][:xloc])*int(r[i][xloc+1:])\n",
    "    return s    \n",
    "\n",
    "def categ_unordered_to_one_hot(r,vals):\n",
    "    p = len(vals)\n",
    "    s = np.zeros((len(r),p))\n",
    "    for i in range(len(r)):\n",
    "        ri = r[i]\n",
    "        idx = vals.index(ri)\n",
    "        s[i,idx] = 1\n",
    "    return s\n",
    "\n",
    "def categ_ordered_to_num(r,vals):\n",
    "    p = len(vals)\n",
    "    s = np.zeros(len(r))\n",
    "    for i in range(len(r)):\n",
    "        ri = r[i]\n",
    "        idx = vals.index(ri)\n",
    "        s[i] = idx\n",
    "    return s\n",
    "\n",
    "PrimRes_num = np.log10(res_to_number(StrFeats['PrimaryResolution']))\n",
    "Compr_num = categ_ordered_to_num(StrFeats['Compression'],['Off','Low','Medium','High'])\n",
    "Test_num = categ_unordered_to_one_hot(StrFeats['Test'],['Base','Idle','Compression','HDR'])\n",
    "Detail_num = categ_ordered_to_num(StrFeats['Detail'],['low','medium','high'])"
   ]
  }
 ],
 "metadata": {
  "kernelspec": {
   "display_name": "Python 3",
   "language": "python",
   "name": "python3"
  },
  "language_info": {
   "codemirror_mode": {
    "name": "ipython",
    "version": 3
   },
   "file_extension": ".py",
   "mimetype": "text/x-python",
   "name": "python",
   "nbconvert_exporter": "python",
   "pygments_lexer": "ipython3",
   "version": "3.6.1"
  }
 },
 "nbformat": 4,
 "nbformat_minor": 2
}
